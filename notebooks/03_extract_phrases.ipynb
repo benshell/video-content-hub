{
 "cells": [
  {
   "cell_type": "markdown",
   "id": "8d099232",
   "metadata": {},
   "source": [
    "# Extract phrases from the audio transcript\n",
    "\n",
    "This is tailored to a speech or similar audio where there is a primary speaker.\n",
    "\n",
    "TODO: Needs a more reliable way to identify the primary speaker; or perhaps remove that condition entirely."
   ]
  },
  {
   "cell_type": "code",
   "execution_count": null,
   "id": "fc0a0e12",
   "metadata": {},
   "outputs": [],
   "source": [
    "import json\n",
    "import csv\n",
    "\n",
    "VIDEO_ID = 'gYXAulePuXY'\n",
    "\n",
    "input_file = f\"content/{VIDEO_ID}-transcript.json\"\n",
    "output_file = f\"content/{VIDEO_ID}-phrases.tsv\"\n",
    "\n",
    "# Load the JSON from AWS Transcribe\n",
    "with open(input_file, 'r') as f:\n",
    "    data = json.load(f)\n",
    "\n",
    "# Extract the phrases portion of the data\n",
    "whitelist = {\"id\", \"transcript\"}\n",
    "audio_segments = data.get('results', {}).get('audio_segments', [])\n",
    "relevent_segment_data = [\n",
    "    [segment.get('id'), segment.get('transcript')]\n",
    "    for segment in audio_segments\n",
    "    if  segment.get('speaker_label') == \"spk_0\"\n",
    "]\n",
    "\n",
    "print(relevent_segment_data)\n",
    "\n",
    "# Write the phrases to a new file\n",
    "with open(output_file, 'w', newline='') as tsvfile:\n",
    "    tsv_writer = csv.writer(tsvfile, delimiter='\\t')\n",
    "    tsv_writer.writerows(relevent_segment_data)\n",
    "\n",
    "print(f\"Extracted data written to {output_file}\")\n"
   ]
  },
  {
   "cell_type": "code",
   "execution_count": null,
   "id": "2a65eb07",
   "metadata": {},
   "outputs": [],
   "source": []
  }
 ],
 "metadata": {
  "kernelspec": {
   "display_name": ".venv",
   "language": "python",
   "name": "python3"
  },
  "language_info": {
   "codemirror_mode": {
    "name": "ipython",
    "version": 3
   },
   "file_extension": ".py",
   "mimetype": "text/x-python",
   "name": "python",
   "nbconvert_exporter": "python",
   "pygments_lexer": "ipython3",
   "version": "3.13.3"
  }
 },
 "nbformat": 4,
 "nbformat_minor": 5
}
