{
 "cells": [
  {
   "cell_type": "markdown",
   "id": "0f963a32",
   "metadata": {},
   "source": [
    "# Prepare Cut List \n",
    "\n",
    "Using the segment ranking from the previous step although with the source transcript, this script creates a cutlist for the final edit."
   ]
  },
  {
   "cell_type": "markdown",
   "id": "21e6a786",
   "metadata": {},
   "source": [
    "\n",
    "## Helper function for merge timestamps and segment selections"
   ]
  },
  {
   "cell_type": "code",
   "execution_count": null,
   "id": "804e10fe",
   "metadata": {},
   "outputs": [],
   "source": [
    "def merge_ranges(ranges):\n",
    "    if not ranges:\n",
    "        return []\n",
    "\n",
    "    # Sort ranges by start point\n",
    "    merged = [ranges[0]]\n",
    "\n",
    "    for current in ranges[1:]:\n",
    "        last = merged[-1]\n",
    "        # If current range starts at or before last ends + 1, merge them\n",
    "        if current[0] <= last[1] + 1:\n",
    "            merged[-1] = (last[0], max(last[1], current[1]))\n",
    "        else:\n",
    "            merged.append(current)\n",
    "\n",
    "    return merged"
   ]
  },
  {
   "cell_type": "markdown",
   "id": "405c66ce",
   "metadata": {},
   "source": [
    "## Helper function for finding the gaps in audio"
   ]
  },
  {
   "cell_type": "code",
   "execution_count": null,
   "id": "24e24442",
   "metadata": {},
   "outputs": [],
   "source": [
    "# Find the gaps before and after a given timestamp\n",
    "# To do that, look through the transcript and find the biggest timestamp BEFORE each segments\n",
    "# and the smallest timestamp AFTER each segment\n",
    "\n",
    "def find_gap_prev(audio_items, start_time):\n",
    "    # Go through the end times of all audio items to find any that are before the given start time\n",
    "    eligible_end_times = [\n",
    "        float(item.get(\"end_time\")) for item in audio_items if item.get(\"end_time\") and float(item.get(\"end_time\")) < float(start_time)\n",
    "    ]\n",
    "    return max(eligible_end_times) if eligible_end_times else None\n",
    "\n",
    "def find_gap_next(audio_items, end_time):\n",
    "    # Go through the start times of all audio items to find any that are after the given end time\n",
    "    eligible_start_times = [\n",
    "        float(item.get(\"start_time\")) for item in audio_items if item.get(\"start_time\") and float(item.get(\"start_time\")) > float(end_time)\n",
    "    ]\n",
    "    return min(eligible_start_times) if eligible_start_times else None"
   ]
  },
  {
   "cell_type": "code",
   "execution_count": null,
   "id": "6e4f19a8",
   "metadata": {},
   "outputs": [],
   "source": [
    "import json\n",
    "import csv\n",
    "\n",
    "VIDEO_ID = 'gYXAulePuXY'\n",
    "\n",
    "MIN_RANKING = 8 # higher numbers indicate more relevant audio clips\n",
    "\n",
    "transcription_file = f\"content/{VIDEO_ID}-transcript.json\"\n",
    "ranking_file = f\"content/{VIDEO_ID}-ranking.json\"\n",
    "output_file = f\"content/{VIDEO_ID}-cutlist.json\"\n",
    "\n",
    "# Load the transcription from AWS Transcribe\n",
    "with open(transcription_file, 'r') as f:\n",
    "    transcription = json.load(f)\n",
    "\n",
    "# Load the phrase groupings (from an LLM)\n",
    "with open(ranking_file, 'r') as f:\n",
    "    rankings = json.load(f)\n",
    "\n",
    "# Get the phrases portion of the transcription_file\n",
    "audio_segments = transcription.get('results', {}).get('audio_segments', [])\n",
    "\n",
    "# Create a lookup dictionary from source\n",
    "id_to_segment = {item[\"id\"]: item for item in audio_segments}\n",
    "\n",
    "# Filter for the segments we'll keep\n",
    "# (all temporary of course--this part is just an experiment)\n",
    "selected_segments = [\n",
    "    (int(ranking.get('ID').split('-')[0]), int(ranking.get('ID').split('-')[-1]))\n",
    "    for ranking in rankings\n",
    "    if ranking.get('ranking') >= MIN_RANKING\n",
    "]\n",
    "\n",
    "# Join contiguous segments to elimate redundant edits, e.g. [(6, 8), (9, 13)] -> [(6, 13)]\n",
    "merged_segments = merge_ranges(selected_segments)\n",
    "\n",
    "# Get the full transcript details for each segment ID \n",
    "segment_details = [\n",
    "    (id_to_segment.get(segment[0]), id_to_segment.get(segment[-1]))\n",
    "    for segment in merged_segments\n",
    "]\n",
    "\n",
    "# Transform segment ID to start and end timestamps\n",
    "# And find the gaps we have between this segment and other speech.\n",
    "audio_items = transcription.get('results', {}).get('items', [])\n",
    "segment_timestamps = [\n",
    "    {\n",
    "        'start_time': float(segment[0]['start_time']),\n",
    "        'end_time': float(segment[1]['end_time']),\n",
    "        'prev_audio': find_gap_prev(audio_items, segment[0]['start_time']),\n",
    "        'next_audio': find_gap_next(audio_items, segment[1]['end_time'])\n",
    "    }\n",
    "    for segment in segment_details\n",
    "]\n",
    "\n",
    "# Taking the start and end times of the previous step, get precise cut points and (max) transition durations\n",
    "cutlist = [\n",
    "    {\n",
    "        **segment,\n",
    "        'start_cut': segment['start_time'] - (segment['start_time'] - segment['prev_audio']) / 2,\n",
    "        'start_transition': segment['start_time'] - segment['prev_audio'],\n",
    "        'end_cut': segment['end_time'] + (segment['next_audio'] - segment['end_time']) / 2,\n",
    "        'end_transition': segment['next_audio'] - segment['end_time'],\n",
    "    }\n",
    "    for segment in segment_timestamps\n",
    "]\n",
    "\n",
    "with open(output_file, 'w', encoding='utf-8') as json_file:\n",
    "    json.dump(cutlist, json_file, ensure_ascii=False, indent=4)\n",
    "\n",
    "print(f\"Data written to {output_file}\")\n"
   ]
  },
  {
   "cell_type": "code",
   "execution_count": null,
   "id": "bb89e4a4",
   "metadata": {},
   "outputs": [],
   "source": []
  }
 ],
 "metadata": {
  "kernelspec": {
   "display_name": ".venv",
   "language": "python",
   "name": "python3"
  },
  "language_info": {
   "codemirror_mode": {
    "name": "ipython",
    "version": 3
   },
   "file_extension": ".py",
   "mimetype": "text/x-python",
   "name": "python",
   "nbconvert_exporter": "python",
   "pygments_lexer": "ipython3",
   "version": "3.13.3"
  }
 },
 "nbformat": 4,
 "nbformat_minor": 5
}
