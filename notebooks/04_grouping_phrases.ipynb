{
 "cells": [
  {
   "cell_type": "markdown",
   "id": "6e9f5a04",
   "metadata": {},
   "source": [
    "# Group Phrases\n",
    "\n",
    "The concept is that the phrase segments from last step may be incomplete sentences or thoughts. If the speaker pauses or hesitates, AWS Transcribe makes that a new segment. We should not cut a video clip in the middle of a sentence or incomplete thought. The idea is to use an LLM to group segments together as needed to form a definitive list of complete phrase groupings.\n",
    "\n",
    "This step needs work, and isn't scripted yet as it will probably change or be replaced.\n",
    "\n",
    "## Example System Prompt (used with Nova Pro):\n",
    "\n",
    "You are a narrative analysis system. Analyze TSV data as lines from a speech, containing a line number and a phrase. Group phrases together in order to form complete sentences. A break in line numbers should start a new group. If a line doesn't help to form a coherent thought, omit it. Smaller groupings are preferred. Return a list of only the line numbers as a machine readable array of arrays.\n",
    "\n",
    "## Response:\n",
    "\n",
    "See `gYXAulePuXY-groupings.json`.\n"
   ]
  }
 ],
 "metadata": {
  "language_info": {
   "name": "python"
  }
 },
 "nbformat": 4,
 "nbformat_minor": 5
}
