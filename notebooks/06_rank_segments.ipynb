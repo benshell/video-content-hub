{
 "cells": [
  {
   "cell_type": "markdown",
   "id": "82edcef5",
   "metadata": {},
   "source": [
    "# Rank Segments\n",
    "\n",
    "In this step we need to start making selections from the audio segments that have been compiled. There are many ways to do this, but in this example an LLM has been used to rank each audio segment based on the value it adds to the given narrative. Then we can use that to decide which segments to include in the final video. One reason for ranking rather than just picking the best segments to include is so we can make different edits with different output lengths.\n",
    "\n",
    "This step needs a lot of work, and I seem to have lost the prompt I used for the example output below. I expected this step to changed or replaced, but ultimately we still need to get to a similar outcome where we determine which parts of the video are most important.\n",
    "\n",
    "## Response:\n",
    "\n",
    "See `gYXAulePuXY-ranking.json`.\n"
   ]
  }
 ],
 "metadata": {
  "language_info": {
   "name": "python"
  }
 },
 "nbformat": 4,
 "nbformat_minor": 5
}
