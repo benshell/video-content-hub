{
 "cells": [
  {
   "cell_type": "markdown",
   "id": "33c28aad",
   "metadata": {},
   "source": [
    "# Downloading from YouTube\n",
    "\n",
    "## Install dependencies:\n",
    "\n",
    "* FFMPEG, e.g. `brew install ffmpeg`\n",
    "* yt-dlp\n",
    "* ffprobe"
   ]
  },
  {
   "cell_type": "code",
   "execution_count": null,
   "id": "28b6778c",
   "metadata": {},
   "outputs": [],
   "source": [
    "pip install yt-dlp ffprobe"
   ]
  },
  {
   "cell_type": "markdown",
   "id": "6915d8ed",
   "metadata": {},
   "source": [
    "## Define video to download:"
   ]
  },
  {
   "cell_type": "code",
   "execution_count": null,
   "id": "ff85caf7",
   "metadata": {},
   "outputs": [],
   "source": [
    "VIDEO_ID = 'gYXAulePuXY'\n",
    "\n",
    "VIDEO_URL = f\"https://www.youtube.com/watch?v={VIDEO_ID}\""
   ]
  },
  {
   "cell_type": "markdown",
   "id": "09d8c789",
   "metadata": {},
   "source": [
    "## Download the best video and audio (separately):"
   ]
  },
  {
   "cell_type": "code",
   "execution_count": null,
   "id": "5d7911f0",
   "metadata": {},
   "outputs": [],
   "source": [
    "import json\n",
    "from yt_dlp import YoutubeDL\n",
    "\n",
    "ydl_opts = {\n",
    "    'format': 'bestvideo,bestaudio',\n",
    "    'outtmpl': 'content/%(id)s.f%(format_id)s.%(ext)s'\n",
    "}\n",
    "\n",
    "downloaded_files = []\n",
    "def my_hook(d):\n",
    "    if d['status'] == 'finished':\n",
    "        print(d)\n",
    "        downloaded_files.append(d['filename'])\n",
    "\n",
    "ydl_opts['progress_hooks'] = [my_hook]\n",
    "\n",
    "with YoutubeDL(ydl_opts) as ydl:\n",
    "    ydl.download([VIDEO_URL])\n",
    "\n",
    "# Print the paths of the downloaded files\n",
    "for file_path in downloaded_files:\n",
    "    print(f\"Downloaded file: {file_path}\")\n"
   ]
  },
  {
   "cell_type": "markdown",
   "id": "592c5594",
   "metadata": {},
   "source": [
    "## Merge video+audio with ffmpeg"
   ]
  },
  {
   "cell_type": "code",
   "execution_count": null,
   "id": "dc515d9b",
   "metadata": {},
   "outputs": [],
   "source": [
    "import subprocess\n",
    "\n",
    "input_args = []\n",
    "for f in downloaded_files:\n",
    "    input_args.extend([\"-i\", f])\n",
    "\n",
    "# Build the ffmpeg command\n",
    "command = [\n",
    "    \"ffmpeg\", \"-y\", *input_args,\n",
    "    \"-c:v\", \"copy\", \"-c:a\", \"aac\", f\"content/{VIDEO_ID}.mp4\"\n",
    "]\n",
    "   \n",
    "# Debug the command\n",
    "print(\"Running command:\", \" \".join(command))\n",
    "\n",
    "# Execute the command\n",
    "try:\n",
    "    subprocess.run(command, check=True, text=True, capture_output=True)\n",
    "    print(\"FFmpeg command executed successfully\")\n",
    "except subprocess.CalledProcessError as e:\n",
    "    print(\"FFmpeg failed with error:\")\n",
    "    print(e.stderr)\n",
    "\n"
   ]
  }
 ],
 "metadata": {
  "kernelspec": {
   "display_name": ".venv",
   "language": "python",
   "name": "python3"
  },
  "language_info": {
   "codemirror_mode": {
    "name": "ipython",
    "version": 3
   },
   "file_extension": ".py",
   "mimetype": "text/x-python",
   "name": "python",
   "nbconvert_exporter": "python",
   "pygments_lexer": "ipython3",
   "version": "3.13.3"
  }
 },
 "nbformat": 4,
 "nbformat_minor": 5
}
