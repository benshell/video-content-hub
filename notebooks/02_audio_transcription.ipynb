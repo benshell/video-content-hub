{
 "cells": [
  {
   "cell_type": "markdown",
   "id": "5defa95d",
   "metadata": {},
   "source": [
    "# Audio transcription\n",
    "\n",
    "TODO: Script this.\n",
    "\n",
    "Workaround: Use the AWS Console to upload the audio file (webm), and then download the transcript to `content/{VIDEO_ID}-transcript.json`.\n",
    "\n",
    "https://us-east-1.console.aws.amazon.com/transcribe/home?region=us-east-1#\n"
   ]
  }
 ],
 "metadata": {
  "language_info": {
   "name": "python"
  }
 },
 "nbformat": 4,
 "nbformat_minor": 5
}
